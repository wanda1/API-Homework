{
 "cells": [
  {
   "cell_type": "code",
   "execution_count": 1,
   "id": "c35cf0ca-c141-4e9a-8947-0b14ad28efaf",
   "metadata": {},
   "outputs": [],
   "source": [
    "# Initial imports\n",
    "import os\n",
    "import requests\n",
    "import pandas as pd\n",
    "from dotenv import load_dotenv\n",
    "import alpaca_trade_api as tradeapi\n",
    "from MCForecastTools import MCSimulation\n",
    "import json\n",
    "\n",
    "%matplotlib inline"
   ]
  },
  {
   "cell_type": "code",
   "execution_count": 2,
   "id": "28e78f00-d87e-4521-b7bf-9463a12e3c3b",
   "metadata": {},
   "outputs": [
    {
     "data": {
      "text/plain": [
       "True"
      ]
     },
     "execution_count": 2,
     "metadata": {},
     "output_type": "execute_result"
    }
   ],
   "source": [
    "# Load .env enviroment variables\n",
    "load_dotenv()"
   ]
  },
  {
   "cell_type": "code",
   "execution_count": 3,
   "id": "83c51c8d-38bb-4e70-a663-3f4618f9dfe5",
   "metadata": {},
   "outputs": [],
   "source": [
    "# Collect Crypto Prices Using the requests Library"
   ]
  },
  {
   "cell_type": "code",
   "execution_count": 4,
   "id": "0f6ff748-f703-4294-8ce0-87dbc1547f7e",
   "metadata": {},
   "outputs": [],
   "source": [
    "# Crypto API URLs\n",
    "btc_url = \"https://api.alternative.me/v2/ticker/bitcoin/\"\n",
    "eth_url = \"https://api.alternative.me/v2/ticker/Ethereum/\""
   ]
  },
  {
   "cell_type": "code",
   "execution_count": 5,
   "id": "29f23135-5ae5-4526-8ffe-8dd62df24054",
   "metadata": {},
   "outputs": [
    {
     "data": {
      "text/plain": [
       "<Response [200]>"
      ]
     },
     "execution_count": 5,
     "metadata": {},
     "output_type": "execute_result"
    }
   ],
   "source": [
    "# Fetch current BTC price\n",
    "requests.get(btc_url)"
   ]
  },
  {
   "cell_type": "code",
   "execution_count": 6,
   "id": "d42d5df3-2534-43fd-9077-fca1a2d573be",
   "metadata": {},
   "outputs": [],
   "source": [
    "btc_request = requests.get(btc_url)"
   ]
  },
  {
   "cell_type": "code",
   "execution_count": 7,
   "id": "f391de48-74a0-465f-8ff8-c1a40f1a0222",
   "metadata": {},
   "outputs": [
    {
     "data": {
      "text/plain": [
       "34940.0"
      ]
     },
     "execution_count": 7,
     "metadata": {},
     "output_type": "execute_result"
    }
   ],
   "source": [
    "btc_data = btc_request.json()\n",
    "btc_price = btc_data['data']['1']['quotes']['USD']['price']\n",
    "btc_price"
   ]
  },
  {
   "cell_type": "code",
   "execution_count": 8,
   "id": "1f6bdbad-e8ca-4a82-8531-c6a794cc2706",
   "metadata": {},
   "outputs": [
    {
     "data": {
      "text/plain": [
       "<Response [200]>"
      ]
     },
     "execution_count": 8,
     "metadata": {},
     "output_type": "execute_result"
    }
   ],
   "source": [
    "# Fetch current ETH price\n",
    "requests.get(eth_url)"
   ]
  },
  {
   "cell_type": "code",
   "execution_count": 9,
   "id": "5c0a83e4-0e8b-4762-aedd-55997aac3ae7",
   "metadata": {},
   "outputs": [],
   "source": [
    "eth_request = requests.get(eth_url)"
   ]
  },
  {
   "cell_type": "code",
   "execution_count": 10,
   "id": "1ddf044d-7dc7-4867-bc8d-f4fe46d0c14d",
   "metadata": {},
   "outputs": [
    {
     "data": {
      "text/plain": [
       "1991.4"
      ]
     },
     "execution_count": 10,
     "metadata": {},
     "output_type": "execute_result"
    }
   ],
   "source": [
    "eth_data = eth_request.json()\n",
    "eth_price = eth_data['data']['1027']['quotes']['USD']['price']\n",
    "eth_price"
   ]
  },
  {
   "cell_type": "code",
   "execution_count": 11,
   "id": "bb1d35ff-ee71-4807-8422-0db454111413",
   "metadata": {},
   "outputs": [],
   "source": [
    "# Compute current value of my crpto\n",
    "my_btc = 1.2\n",
    "my_eth = 5.3\n",
    "my_btc_value = my_btc * btc_price\n",
    "my_eth_value = my_eth * eth_price"
   ]
  },
  {
   "cell_type": "code",
   "execution_count": 12,
   "id": "0acf29e0-6c3b-41cc-aa04-2b5d6bd7b445",
   "metadata": {},
   "outputs": [
    {
     "name": "stdout",
     "output_type": "stream",
     "text": [
      "The current value of your 1.2 BTC is $41928.00\n",
      "The current value of your 5.3 ETH is $10554.42\n"
     ]
    }
   ],
   "source": [
    "# Print current crypto wallet balance\n",
    "print(f\"The current value of your {my_btc} BTC is ${my_btc_value:0.2f}\")\n",
    "print(f\"The current value of your {my_eth} ETH is ${my_eth_value:0.2f}\")"
   ]
  },
  {
   "cell_type": "code",
   "execution_count": 13,
   "id": "343a36ac-8bcf-47d9-8e7a-97ff29e1f347",
   "metadata": {},
   "outputs": [],
   "source": [
    "#Collect Investments Data Using Alpaca: SPY (stocks) and AGG (bonds)"
   ]
  },
  {
   "cell_type": "code",
   "execution_count": 14,
   "id": "c3161e46-0ae5-448d-9c8f-22b119061524",
   "metadata": {},
   "outputs": [],
   "source": [
    "# Set current amount of shares\n",
    "my_agg = 200\n",
    "my_spy = 50"
   ]
  },
  {
   "cell_type": "code",
   "execution_count": 15,
   "id": "bac328ee-9313-4c41-a9e0-0560d2b2cab4",
   "metadata": {},
   "outputs": [],
   "source": [
    "# Set Alpaca API key and secret\n",
    "alpaca_api_key = os.getenv(\"ALPACA_API_KEY\")\n",
    "alpaca_secret_key = os.getenv(\"ALPACA_SECRET_KEY\")\n",
    "\n",
    "# Create the Alpaca API object\n",
    "api = tradeapi.REST(\n",
    "    alpaca_api_key,\n",
    "    alpaca_secret_key,\n",
    "    api_version = \"v2\"\n",
    ")\n"
   ]
  },
  {
   "cell_type": "code",
   "execution_count": 16,
   "id": "16514982-d38e-47dd-92aa-6160b84f1d72",
   "metadata": {},
   "outputs": [],
   "source": [
    "# Set the tickers\n",
    "tickers = [\"AGG\", \"SPY\"]\n",
    "\n",
    "# Set timeframe to '1D' for Alpaca API\n",
    "timeframe = \"1D\"\n"
   ]
  },
  {
   "cell_type": "code",
   "execution_count": 17,
   "id": "40ff2363-bf76-49e2-9896-d1062015fc83",
   "metadata": {},
   "outputs": [],
   "source": [
    "# Format current date as ISO format\n",
    "today = pd.Timestamp.today().strftime(\"%Y-%m-%d\")"
   ]
  },
  {
   "cell_type": "code",
   "execution_count": 18,
   "id": "c07e7f20-1cd1-4314-85f7-6471cb34822e",
   "metadata": {},
   "outputs": [
    {
     "data": {
      "text/html": [
       "<div>\n",
       "<style scoped>\n",
       "    .dataframe tbody tr th:only-of-type {\n",
       "        vertical-align: middle;\n",
       "    }\n",
       "\n",
       "    .dataframe tbody tr th {\n",
       "        vertical-align: top;\n",
       "    }\n",
       "\n",
       "    .dataframe thead tr th {\n",
       "        text-align: left;\n",
       "    }\n",
       "</style>\n",
       "<table border=\"1\" class=\"dataframe\">\n",
       "  <thead>\n",
       "    <tr>\n",
       "      <th></th>\n",
       "      <th colspan=\"5\" halign=\"left\">AGG</th>\n",
       "      <th colspan=\"5\" halign=\"left\">SPY</th>\n",
       "    </tr>\n",
       "    <tr>\n",
       "      <th></th>\n",
       "      <th>open</th>\n",
       "      <th>high</th>\n",
       "      <th>low</th>\n",
       "      <th>close</th>\n",
       "      <th>volume</th>\n",
       "      <th>open</th>\n",
       "      <th>high</th>\n",
       "      <th>low</th>\n",
       "      <th>close</th>\n",
       "      <th>volume</th>\n",
       "    </tr>\n",
       "  </thead>\n",
       "  <tbody>\n",
       "    <tr>\n",
       "      <th>2017-07-06 00:00:00-04:00</th>\n",
       "      <td>108.95</td>\n",
       "      <td>109.000</td>\n",
       "      <td>108.820</td>\n",
       "      <td>108.950</td>\n",
       "      <td>2057393</td>\n",
       "      <td>241.88</td>\n",
       "      <td>242.0300</td>\n",
       "      <td>240.34</td>\n",
       "      <td>240.58</td>\n",
       "      <td>52390161</td>\n",
       "    </tr>\n",
       "    <tr>\n",
       "      <th>2017-07-07 00:00:00-04:00</th>\n",
       "      <td>108.89</td>\n",
       "      <td>108.950</td>\n",
       "      <td>108.830</td>\n",
       "      <td>108.870</td>\n",
       "      <td>2536724</td>\n",
       "      <td>241.21</td>\n",
       "      <td>242.2800</td>\n",
       "      <td>241.02</td>\n",
       "      <td>242.10</td>\n",
       "      <td>36831437</td>\n",
       "    </tr>\n",
       "    <tr>\n",
       "      <th>2017-07-10 00:00:00-04:00</th>\n",
       "      <td>108.97</td>\n",
       "      <td>109.020</td>\n",
       "      <td>108.890</td>\n",
       "      <td>108.960</td>\n",
       "      <td>1940466</td>\n",
       "      <td>241.95</td>\n",
       "      <td>242.8000</td>\n",
       "      <td>241.76</td>\n",
       "      <td>242.36</td>\n",
       "      <td>27912725</td>\n",
       "    </tr>\n",
       "    <tr>\n",
       "      <th>2017-07-11 00:00:00-04:00</th>\n",
       "      <td>108.97</td>\n",
       "      <td>109.100</td>\n",
       "      <td>108.930</td>\n",
       "      <td>109.055</td>\n",
       "      <td>1613602</td>\n",
       "      <td>242.16</td>\n",
       "      <td>242.5500</td>\n",
       "      <td>240.85</td>\n",
       "      <td>242.16</td>\n",
       "      <td>40900622</td>\n",
       "    </tr>\n",
       "    <tr>\n",
       "      <th>2017-07-12 00:00:00-04:00</th>\n",
       "      <td>109.38</td>\n",
       "      <td>109.430</td>\n",
       "      <td>109.260</td>\n",
       "      <td>109.380</td>\n",
       "      <td>1787218</td>\n",
       "      <td>243.30</td>\n",
       "      <td>244.2000</td>\n",
       "      <td>243.30</td>\n",
       "      <td>243.98</td>\n",
       "      <td>38779965</td>\n",
       "    </tr>\n",
       "    <tr>\n",
       "      <th>...</th>\n",
       "      <td>...</td>\n",
       "      <td>...</td>\n",
       "      <td>...</td>\n",
       "      <td>...</td>\n",
       "      <td>...</td>\n",
       "      <td>...</td>\n",
       "      <td>...</td>\n",
       "      <td>...</td>\n",
       "      <td>...</td>\n",
       "      <td>...</td>\n",
       "    </tr>\n",
       "    <tr>\n",
       "      <th>2021-06-18 00:00:00-04:00</th>\n",
       "      <td>115.05</td>\n",
       "      <td>115.390</td>\n",
       "      <td>114.910</td>\n",
       "      <td>115.290</td>\n",
       "      <td>5438261</td>\n",
       "      <td>417.08</td>\n",
       "      <td>417.8281</td>\n",
       "      <td>414.70</td>\n",
       "      <td>415.01</td>\n",
       "      <td>92753385</td>\n",
       "    </tr>\n",
       "    <tr>\n",
       "      <th>2021-06-21 00:00:00-04:00</th>\n",
       "      <td>115.06</td>\n",
       "      <td>115.120</td>\n",
       "      <td>114.921</td>\n",
       "      <td>114.960</td>\n",
       "      <td>4934966</td>\n",
       "      <td>416.80</td>\n",
       "      <td>421.0600</td>\n",
       "      <td>415.93</td>\n",
       "      <td>420.85</td>\n",
       "      <td>63727942</td>\n",
       "    </tr>\n",
       "    <tr>\n",
       "      <th>2021-06-22 00:00:00-04:00</th>\n",
       "      <td>114.83</td>\n",
       "      <td>115.140</td>\n",
       "      <td>114.830</td>\n",
       "      <td>115.110</td>\n",
       "      <td>5299846</td>\n",
       "      <td>420.85</td>\n",
       "      <td>424.0000</td>\n",
       "      <td>420.08</td>\n",
       "      <td>423.06</td>\n",
       "      <td>50857233</td>\n",
       "    </tr>\n",
       "    <tr>\n",
       "      <th>2021-06-23 00:00:00-04:00</th>\n",
       "      <td>115.06</td>\n",
       "      <td>115.138</td>\n",
       "      <td>114.990</td>\n",
       "      <td>115.050</td>\n",
       "      <td>5000374</td>\n",
       "      <td>423.19</td>\n",
       "      <td>424.0500</td>\n",
       "      <td>422.51</td>\n",
       "      <td>422.60</td>\n",
       "      <td>41476351</td>\n",
       "    </tr>\n",
       "    <tr>\n",
       "      <th>2021-06-24 00:00:00-04:00</th>\n",
       "      <td>115.10</td>\n",
       "      <td>115.170</td>\n",
       "      <td>115.045</td>\n",
       "      <td>115.070</td>\n",
       "      <td>6672880</td>\n",
       "      <td>424.89</td>\n",
       "      <td>425.5500</td>\n",
       "      <td>424.62</td>\n",
       "      <td>425.09</td>\n",
       "      <td>39863529</td>\n",
       "    </tr>\n",
       "  </tbody>\n",
       "</table>\n",
       "<p>1000 rows × 10 columns</p>\n",
       "</div>"
      ],
      "text/plain": [
       "                              AGG                                         SPY  \\\n",
       "                             open     high      low    close   volume    open   \n",
       "2017-07-06 00:00:00-04:00  108.95  109.000  108.820  108.950  2057393  241.88   \n",
       "2017-07-07 00:00:00-04:00  108.89  108.950  108.830  108.870  2536724  241.21   \n",
       "2017-07-10 00:00:00-04:00  108.97  109.020  108.890  108.960  1940466  241.95   \n",
       "2017-07-11 00:00:00-04:00  108.97  109.100  108.930  109.055  1613602  242.16   \n",
       "2017-07-12 00:00:00-04:00  109.38  109.430  109.260  109.380  1787218  243.30   \n",
       "...                           ...      ...      ...      ...      ...     ...   \n",
       "2021-06-18 00:00:00-04:00  115.05  115.390  114.910  115.290  5438261  417.08   \n",
       "2021-06-21 00:00:00-04:00  115.06  115.120  114.921  114.960  4934966  416.80   \n",
       "2021-06-22 00:00:00-04:00  114.83  115.140  114.830  115.110  5299846  420.85   \n",
       "2021-06-23 00:00:00-04:00  115.06  115.138  114.990  115.050  5000374  423.19   \n",
       "2021-06-24 00:00:00-04:00  115.10  115.170  115.045  115.070  6672880  424.89   \n",
       "\n",
       "                                                               \n",
       "                               high     low   close    volume  \n",
       "2017-07-06 00:00:00-04:00  242.0300  240.34  240.58  52390161  \n",
       "2017-07-07 00:00:00-04:00  242.2800  241.02  242.10  36831437  \n",
       "2017-07-10 00:00:00-04:00  242.8000  241.76  242.36  27912725  \n",
       "2017-07-11 00:00:00-04:00  242.5500  240.85  242.16  40900622  \n",
       "2017-07-12 00:00:00-04:00  244.2000  243.30  243.98  38779965  \n",
       "...                             ...     ...     ...       ...  \n",
       "2021-06-18 00:00:00-04:00  417.8281  414.70  415.01  92753385  \n",
       "2021-06-21 00:00:00-04:00  421.0600  415.93  420.85  63727942  \n",
       "2021-06-22 00:00:00-04:00  424.0000  420.08  423.06  50857233  \n",
       "2021-06-23 00:00:00-04:00  424.0500  422.51  422.60  41476351  \n",
       "2021-06-24 00:00:00-04:00  425.5500  424.62  425.09  39863529  \n",
       "\n",
       "[1000 rows x 10 columns]"
      ]
     },
     "execution_count": 18,
     "metadata": {},
     "output_type": "execute_result"
    }
   ],
   "source": [
    "# Get current closing prices for SPY and AGG\n",
    "# (use a limit=1000 parameter to call the most recent 1000 days of data)\n",
    "df_portfolio = api.get_barset(\n",
    "    tickers,\n",
    "    timeframe,\n",
    "    start = today,\n",
    "    end = today,\n",
    "    limit=1000\n",
    ").df\n",
    "\n",
    "# Preview DataFrame\n",
    "df_portfolio"
   ]
  },
  {
   "cell_type": "code",
   "execution_count": 19,
   "id": "94fbcbcf-9da4-4412-ac0c-c1878ce57485",
   "metadata": {},
   "outputs": [
    {
     "name": "stdout",
     "output_type": "stream",
     "text": [
      "Current AGG closing price: $115.07\n",
      "Current SPY closing price: $425.09\n"
     ]
    }
   ],
   "source": [
    "# Pick AGG and SPY close prices\n",
    "agg_close_price = df_portfolio['AGG'].loc[today]['close']\n",
    "spy_close_price = df_portfolio['SPY'].loc[today]['close']\n",
    "\n",
    "# Print AGG and SPY close prices\n",
    "print(f\"Current AGG closing price: ${agg_close_price}\")\n",
    "print(f\"Current SPY closing price: ${spy_close_price}\")"
   ]
  },
  {
   "cell_type": "code",
   "execution_count": 20,
   "id": "0dc998c3-ca39-4877-bea1-92847a720a3e",
   "metadata": {},
   "outputs": [
    {
     "name": "stdout",
     "output_type": "stream",
     "text": [
      "The current value of your 50 SPY shares is $21254.50\n",
      "The current value of your 200 AGG shares is $23014.00\n"
     ]
    }
   ],
   "source": [
    "# Compute the current value of shares\n",
    "my_spy_value = my_spy * spy_close_price\n",
    "my_agg_value = my_agg * agg_close_price\n",
    "\n",
    "# Print current value of shares\n",
    "print(f\"The current value of your {my_spy} SPY shares is ${my_spy_value:0.2f}\")\n",
    "print(f\"The current value of your {my_agg} AGG shares is ${my_agg_value:0.2f}\")"
   ]
  },
  {
   "cell_type": "code",
   "execution_count": null,
   "id": "6c484b03-c29f-466c-9f1f-7b9b621534ff",
   "metadata": {},
   "outputs": [],
   "source": [
    "# Savings Health Analysis\n",
    "# Set monthly household income\n",
    "# YOUR CODE HERE!\n",
    "\n",
    "# Consolidate financial assets data\n",
    "# YOUR CODE HERE!\n",
    "\n",
    "# Create savings DataFrame\n",
    "# YOUR CODE HERE!\n",
    "\n",
    "# Display savings DataFrame\n",
    "display(df_savings)"
   ]
  }
 ],
 "metadata": {
  "kernelspec": {
   "display_name": "Python 3",
   "language": "python",
   "name": "python3"
  },
  "language_info": {
   "codemirror_mode": {
    "name": "ipython",
    "version": 3
   },
   "file_extension": ".py",
   "mimetype": "text/x-python",
   "name": "python",
   "nbconvert_exporter": "python",
   "pygments_lexer": "ipython3",
   "version": "3.8.5"
  }
 },
 "nbformat": 4,
 "nbformat_minor": 5
}
