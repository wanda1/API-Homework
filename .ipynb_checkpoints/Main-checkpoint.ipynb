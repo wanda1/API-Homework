{
 "cells": [
  {
   "cell_type": "code",
   "execution_count": 27,
   "id": "c35cf0ca-c141-4e9a-8947-0b14ad28efaf",
   "metadata": {},
   "outputs": [],
   "source": [
    "# Initial imports\n",
    "import os\n",
    "import requests\n",
    "import pandas as pd\n",
    "from dotenv import load_dotenv\n",
    "import alpaca_trade_api as tradeapi\n",
    "from MCForecastTools import MCSimulation\n",
    "import json\n",
    "\n",
    "%matplotlib inline"
   ]
  },
  {
   "cell_type": "code",
   "execution_count": 28,
   "id": "28e78f00-d87e-4521-b7bf-9463a12e3c3b",
   "metadata": {},
   "outputs": [
    {
     "data": {
      "text/plain": [
       "True"
      ]
     },
     "execution_count": 28,
     "metadata": {},
     "output_type": "execute_result"
    }
   ],
   "source": [
    "# Load .env enviroment variables\n",
    "load_dotenv()"
   ]
  },
  {
   "cell_type": "code",
   "execution_count": 29,
   "id": "0f6ff748-f703-4294-8ce0-87dbc1547f7e",
   "metadata": {},
   "outputs": [],
   "source": [
    "# Crypto API URLs\n",
    "btc_url = \"https://api.alternative.me/v2/ticker/bitcoin/\"\n",
    "eth_url = \"https://api.alternative.me/v2/ticker/Ethereum/\""
   ]
  },
  {
   "cell_type": "code",
   "execution_count": 30,
   "id": "29f23135-5ae5-4526-8ffe-8dd62df24054",
   "metadata": {},
   "outputs": [
    {
     "data": {
      "text/plain": [
       "<Response [200]>"
      ]
     },
     "execution_count": 30,
     "metadata": {},
     "output_type": "execute_result"
    }
   ],
   "source": [
    "# Fetch current BTC price\n",
    "requests.get(btc_url)"
   ]
  },
  {
   "cell_type": "code",
   "execution_count": 31,
   "id": "d42d5df3-2534-43fd-9077-fca1a2d573be",
   "metadata": {},
   "outputs": [],
   "source": [
    "btc_request = requests.get(btc_url)"
   ]
  },
  {
   "cell_type": "code",
   "execution_count": 35,
   "id": "f391de48-74a0-465f-8ff8-c1a40f1a0222",
   "metadata": {},
   "outputs": [
    {
     "data": {
      "text/plain": [
       "35106.0"
      ]
     },
     "execution_count": 35,
     "metadata": {},
     "output_type": "execute_result"
    }
   ],
   "source": [
    "btc_data = btc_request.json()\n",
    "btc_price = btc_data['data']['1']['quotes']['USD']['price']\n",
    "btc_price"
   ]
  },
  {
   "cell_type": "code",
   "execution_count": 36,
   "id": "1f6bdbad-e8ca-4a82-8531-c6a794cc2706",
   "metadata": {},
   "outputs": [
    {
     "data": {
      "text/plain": [
       "<Response [200]>"
      ]
     },
     "execution_count": 36,
     "metadata": {},
     "output_type": "execute_result"
    }
   ],
   "source": [
    "# Fetch current ETH price\n",
    "requests.get(eth_url)"
   ]
  },
  {
   "cell_type": "code",
   "execution_count": 38,
   "id": "5c0a83e4-0e8b-4762-aedd-55997aac3ae7",
   "metadata": {},
   "outputs": [],
   "source": [
    "eth_request = requests.get(eth_url)"
   ]
  },
  {
   "cell_type": "code",
   "execution_count": 41,
   "id": "1ddf044d-7dc7-4867-bc8d-f4fe46d0c14d",
   "metadata": {},
   "outputs": [
    {
     "data": {
      "text/plain": [
       "2003.78"
      ]
     },
     "execution_count": 41,
     "metadata": {},
     "output_type": "execute_result"
    }
   ],
   "source": [
    "eth_data = eth_request.json()\n",
    "eth_price = eth_data['data']['1027']['quotes']['USD']['price']\n",
    "eth_price"
   ]
  },
  {
   "cell_type": "code",
   "execution_count": 42,
   "id": "bb1d35ff-ee71-4807-8422-0db454111413",
   "metadata": {},
   "outputs": [],
   "source": [
    "# Compute current value of my crpto\n",
    "my_btc = 1.2\n",
    "my_eth = 5.3\n",
    "my_btc_value = my_btc * btc_price\n",
    "my_eth_value = my_eth * eth_price"
   ]
  },
  {
   "cell_type": "code",
   "execution_count": 43,
   "id": "0acf29e0-6c3b-41cc-aa04-2b5d6bd7b445",
   "metadata": {},
   "outputs": [
    {
     "name": "stdout",
     "output_type": "stream",
     "text": [
      "The current value of your 1.2 BTC is $42127.20\n",
      "The current value of your 5.3 ETH is $10620.03\n"
     ]
    }
   ],
   "source": [
    "# Print current crypto wallet balance\n",
    "print(f\"The current value of your {my_btc} BTC is ${my_btc_value:0.2f}\")\n",
    "print(f\"The current value of your {my_eth} ETH is ${my_eth_value:0.2f}\")"
   ]
  },
  {
   "cell_type": "code",
   "execution_count": null,
   "id": "343a36ac-8bcf-47d9-8e7a-97ff29e1f347",
   "metadata": {},
   "outputs": [],
   "source": []
  }
 ],
 "metadata": {
  "kernelspec": {
   "display_name": "Python 3",
   "language": "python",
   "name": "python3"
  },
  "language_info": {
   "codemirror_mode": {
    "name": "ipython",
    "version": 3
   },
   "file_extension": ".py",
   "mimetype": "text/x-python",
   "name": "python",
   "nbconvert_exporter": "python",
   "pygments_lexer": "ipython3",
   "version": "3.8.5"
  }
 },
 "nbformat": 4,
 "nbformat_minor": 5
}
